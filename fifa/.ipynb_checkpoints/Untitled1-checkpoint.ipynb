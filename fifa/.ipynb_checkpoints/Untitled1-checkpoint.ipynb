{
 "cells": [
  {
   "cell_type": "code",
   "execution_count": 8,
   "metadata": {},
   "outputs": [
    {
     "name": "stdout",
     "output_type": "stream",
     "text": [
      "[3.842911545880407, 2.078110223201984, 2.078110223201984, 2.101150730228713]\n",
      "[[3.84291155 2.07811022]\n",
      " [2.07811022 2.10115073]]\n"
     ]
    }
   ],
   "source": [
    "import pandas as pd\n",
    "import scipy.stats\n",
    "from pandas import np\n",
    "\n",
    "df = pd.read_csv('fifa_countries_audience.txt')\n",
    "def fifa_corr(x, y):\n",
    "    mean_x = np.mean(x)\n",
    "    mean_y = np.mean(y)\n",
    "    \n",
    "    num = [(i-mean_x)* (j-mean_y) for i, j in zip(x, y)]\n",
    " \n",
    "    corr_x_y = np.sum(num)/(len(x)-1)\n",
    "    return corr_x_y\n",
    "cov = [fifa_corr(df['population_share'], df['population_share']), fifa_corr(df['population_share'], df['tv_audience_share']), \n",
    "        fifa_corr(df['tv_audience_share'], df['population_share']), fifa_corr(df['tv_audience_share'], df['tv_audience_share'])]\n",
    "print(cov)\n",
    "print(np.cov(df['population_share'], df['tv_audience_share']))"
   ]
  },
  {
   "cell_type": "code",
   "execution_count": null,
   "metadata": {},
   "outputs": [],
   "source": []
  }
 ],
 "metadata": {
  "kernelspec": {
   "display_name": "Python 3",
   "language": "python",
   "name": "python3"
  },
  "language_info": {
   "codemirror_mode": {
    "name": "ipython",
    "version": 3
   },
   "file_extension": ".py",
   "mimetype": "text/x-python",
   "name": "python",
   "nbconvert_exporter": "python",
   "pygments_lexer": "ipython3",
   "version": "3.7.4"
  }
 },
 "nbformat": 4,
 "nbformat_minor": 2
}
