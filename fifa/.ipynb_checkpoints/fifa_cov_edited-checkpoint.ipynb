{
 "cells": [
  {
   "cell_type": "code",
   "execution_count": 24,
   "metadata": {},
   "outputs": [
    {
     "name": "stdout",
     "output_type": "stream",
     "text": [
      "[[1 1 1 1]\n",
      " [1 2 3 4]\n",
      " [1 1 2 3]]\n",
      "[[0.         0.         0.        ]\n",
      " [0.         1.66666667 1.16666667]\n",
      " [0.         1.16666667 0.91666667]]\n",
      "[3.842911545880407, 2.078110223201984, 1.2780115734362083]\n",
      "[2.078110223201984, 2.101150730228713, 1.628527142463489]\n",
      "[1.2780115734362083, 1.628527142463489, 2.124580876274456]\n",
      "\n"
     ]
    }
   ],
   "source": [
    "import pandas as pd\n",
    "import scipy.stats\n",
    "from pandas import np\n",
    "import matplotlib.pyplot as plt\n",
    "\n",
    "df = pd.read_csv('fifa_countries_audience.txt')\n",
    "def fifa_corr(a, b):\n",
    "    mean_a = np.mean(a)\n",
    "    mean_b = np.mean(b)\n",
    "    \n",
    "    num = [(i-mean_a)* (j-mean_b) for i, j in zip(a, b)]\n",
    " \n",
    "    corr_a_b = np.sum(num)/(len(a)-1)\n",
    "    return corr_a_b\n",
    "\n",
    "\n",
    "# dataset = np.array([[1, 1, 1], [1, 2, 1], [1, 3, 2], [1, 4, 3]])\n",
    "def cov_matrix_calculation(data):\n",
    "    # calculate covariance matrix of the data\n",
    "    print(data.T)\n",
    "    cov_matx = np.cov(data.T)\n",
    "    return cov_matx\n",
    "\n",
    "dataset = np.array([[1, 1, 1], [1, 2, 1], [1, 3, 2], [1, 4, 3]])\n",
    "print(cov_matrix_calculation(dataset))\n",
    "\n",
    "\n",
    "\n",
    "\n",
    "\n",
    "# $(X,Y), (X, Z), (Y, Z), (X, X), (Y, Y), and (Z, Z)$\n",
    "cov_ab = [[fifa_corr(df['population_share'], df['population_share']), fifa_corr(df['population_share'], df['tv_audience_share']), fifa_corr(df['population_share'], df['gdp_weighted_share'])],\n",
    "        [fifa_corr(df['tv_audience_share'], df['population_share']), fifa_corr(df['tv_audience_share'], df['tv_audience_share']), fifa_corr(df['tv_audience_share'], df['gdp_weighted_share'])], \n",
    "        [fifa_corr(df['gdp_weighted_share'], df['population_share']), fifa_corr(df['gdp_weighted_share'], df['tv_audience_share']), fifa_corr(df['gdp_weighted_share'], df['gdp_weighted_share'])]]\n",
    "\n",
    "for list_cov in cov_ab:\n",
    "    print(list_cov)\n",
    "print()\n",
    "    \n",
    "# print(np.cov(df['population_share'], df['tv_audience_share']))\n",
    "# print(np.cov(df['population_share'], df['gdp_weighted_share']))\n",
    "# print(np.cov(df['tv_audience_share'], df['gdp_weighted_share']))\n",
    "\n",
    "#   x y z\n",
    "# x\n",
    "# y\n",
    "# z\n",
    "\n"
   ]
  },
  {
   "cell_type": "code",
   "execution_count": null,
   "metadata": {},
   "outputs": [],
   "source": []
  },
  {
   "cell_type": "code",
   "execution_count": null,
   "metadata": {},
   "outputs": [],
   "source": []
  }
 ],
 "metadata": {
  "kernelspec": {
   "display_name": "Python 3",
   "language": "python",
   "name": "python3"
  },
  "language_info": {
   "codemirror_mode": {
    "name": "ipython",
    "version": 3
   },
   "file_extension": ".py",
   "mimetype": "text/x-python",
   "name": "python",
   "nbconvert_exporter": "python",
   "pygments_lexer": "ipython3",
   "version": "3.7.4"
  }
 },
 "nbformat": 4,
 "nbformat_minor": 2
}
