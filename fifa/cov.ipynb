{
 "cells": [
  {
   "cell_type": "code",
   "execution_count": 6,
   "metadata": {},
   "outputs": [
    {
     "name": "stdout",
     "output_type": "stream",
     "text": [
      "[2.078110223201984, 1.2780115734362083]\n",
      "[1.628527142463489, 3.842911545880407]\n",
      "[2.101150730228713, 2.124580876274456]\n",
      "\n",
      "hello 2.101150730228714\n",
      "[[3.84291155 2.07811022]\n",
      " [2.07811022 2.10115073]]\n",
      "[[3.84291155 1.27801157]\n",
      " [1.27801157 2.12458088]]\n",
      "[[2.10115073 1.62852714]\n",
      " [1.62852714 2.12458088]]\n"
     ]
    },
    {
     "data": {
      "text/plain": [
       "Text(0, 0.5, 'tv_audience_share')"
      ]
     },
     "execution_count": 6,
     "metadata": {},
     "output_type": "execute_result"
    },
    {
     "data": {
      "image/png": "[encoded data removed]",
      "text/plain": [
       "<Figure size 432x288 with 1 Axes>"
      ]
     },
     "metadata": {
      "needs_background": "light"
     },
     "output_type": "display_data"
    }
   ],
   "source": [
    "import pandas as pd\n",
    "import scipy.stats\n",
    "from pandas import np\n",
    "import matplotlib.pyplot as plt\n",
    "\n",
    "df = pd.read_csv('fifa_countries_audience.txt')\n",
    "def fifa_corr(a, b):\n",
    "    mean_a = np.mean(a)\n",
    "    mean_b = np.mean(b)\n",
    "    \n",
    "    num = [(i-mean_a)* (j-mean_b) for i, j in zip(a, b)]\n",
    " \n",
    "    corr_a_b = np.sum(num)/(len(a)-1)\n",
    "    return corr_a_b\n",
    "# $(X,Y), (X, Z), (Y, Z), (X, X), (Y, Y), and (Z, Z)$\n",
    "cov_ab = [[fifa_corr(df['population_share'], df['tv_audience_share']), fifa_corr(df['population_share'], df['gdp_weighted_share'])],\n",
    "        [fifa_corr(df['tv_audience_share'], df['gdp_weighted_share']), fifa_corr(df['population_share'], df['population_share'])], \n",
    "        [fifa_corr(df['tv_audience_share'], df['tv_audience_share']), fifa_corr(df['gdp_weighted_share'], df['gdp_weighted_share'])]]\n",
    "\n",
    "for list_cov in cov_ab:\n",
    "    print(list_cov)\n",
    "print()\n",
    "print(\"hello\", np.cov(df['tv_audience_share'].T))\n",
    "    \n",
    "print(np.cov(df['population_share'], df['tv_audience_share']))\n",
    "print(np.cov(df['population_share'], df['gdp_weighted_share']))\n",
    "print(np.cov(df['tv_audience_share'], df['gdp_weighted_share']))\n",
    "plt.scatter(df['population_share'], df['tv_audience_share'])\n"
   ]
  },
  {
   "cell_type": "code",
   "execution_count": null,
   "metadata": {},
   "outputs": [],
   "source": []
  },
  {
   "cell_type": "code",
   "execution_count": null,
   "metadata": {},
   "outputs": [],
   "source": []
  }
 ],
 "metadata": {
  "kernelspec": {
   "display_name": "Python 3",
   "language": "python",
   "name": "python3"
  },
  "language_info": {
   "codemirror_mode": {
    "name": "ipython",
    "version": 3
   },
   "file_extension": ".py",
   "mimetype": "text/x-python",
   "name": "python",
   "nbconvert_exporter": "python",
   "pygments_lexer": "ipython3",
   "version": "3.7.4"
  }
 },
 "nbformat": 4,
 "nbformat_minor": 2
}
