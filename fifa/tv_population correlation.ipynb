{
 "cells": [
  {
   "cell_type": "code",
   "execution_count": 19,
   "metadata": {},
   "outputs": [
    {
     "name": "stdout",
     "output_type": "stream",
     "text": [
      "27.02134700042315\n",
      "19.98045641979821\n",
      "0.7313239234103818\n",
      "bulit in value (0.7313239234103822, 3.061692463775852e-33)\n"
     ]
    }
   ],
   "source": [
    "import pandas as pd\n",
    "import scipy.stats\n",
    "from pandas import np\n",
    "\n",
    "df = pd.read_csv('fifa_countries_audience.txt')\n",
    "def fifa_corr(x, y):\n",
    "    mean_x = np.mean(x)\n",
    "    mean_y = np.mean(y)\n",
    "    \n",
    "    num = [(i-mean_x)* (j-mean_y) for i, j in zip(x, y)]\n",
    "    \n",
    "    stadiv_x = np.sqrt(np.sum([(i-mean_x)**2 for i in x]))\n",
    "    stadiv_y = np.sqrt(np.sum([(i-mean_y)**2 for i in y]))\n",
    " \n",
    "    corr_x_y = np.sum(num)/(stadiv_x*stadiv_y)\n",
    "    return corr_x_y\n",
    "print(fifa_corr(df['population_share'], df['tv_audience_share']))\n",
    "print(\"bulit in value\", scipy.stats.pearsonr(df['population_share'], df['tv_audience_share']))"
   ]
  },
  {
   "cell_type": "code",
   "execution_count": null,
   "metadata": {},
   "outputs": [],
   "source": []
  }
 ],
 "metadata": {
  "kernelspec": {
   "display_name": "Python 3",
   "language": "python",
   "name": "python3"
  },
  "language_info": {
   "codemirror_mode": {
    "name": "ipython",
    "version": 3
   },
   "file_extension": ".py",
   "mimetype": "text/x-python",
   "name": "python",
   "nbconvert_exporter": "python",
   "pygments_lexer": "ipython3",
   "version": "3.7.4"
  }
 },
 "nbformat": 4,
 "nbformat_minor": 2
}
