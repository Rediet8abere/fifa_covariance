{
 "cells": [
  {
   "cell_type": "code",
   "execution_count": 4,
   "metadata": {},
   "outputs": [
    {
     "name": "stdout",
     "output_type": "stream",
     "text": [
      "yearly salary increase by: 3450.0\n",
      "At year 0, salary is 115000\n",
      "At year 1, salary is 118450.0\n",
      "At year 2, salary is 121900.0\n",
      "At year 3, salary is 125350.0\n",
      "At year 4, salary is 128800.0\n",
      "At year 5, salary is 132250.0\n",
      "At year 6, salary is 135700.0\n",
      "At year 7, salary is 139150.0\n",
      "At year 8, salary is 142600.0\n",
      "At year 9, salary is 146050.0\n",
      "At year 10, salary is 149500.0\n"
     ]
    }
   ],
   "source": [
    "\n",
    "def salary_amt(base_salary, rate, years): \n",
    "    salary_ten = base_salary\n",
    "    inc = base_salary*rate\n",
    "    print(\"yearly salary increase by:\", base_salary*rate)\n",
    "    for i in range(years+1):\n",
    "        print(f\"At year {i}, salary is {salary_ten}\")\n",
    "        salary_ten += inc\n",
    "\n",
    "salary_amt(115000, 0.03, 10)"
   ]
  },
  {
   "cell_type": "code",
   "execution_count": null,
   "metadata": {},
   "outputs": [],
   "source": []
  }
 ],
 "metadata": {
  "kernelspec": {
   "display_name": "Python 3",
   "language": "python",
   "name": "python3"
  },
  "language_info": {
   "codemirror_mode": {
    "name": "ipython",
    "version": 3
   },
   "file_extension": ".py",
   "mimetype": "text/x-python",
   "name": "python",
   "nbconvert_exporter": "python",
   "pygments_lexer": "ipython3",
   "version": "3.7.4"
  }
 },
 "nbformat": 4,
 "nbformat_minor": 2
}
