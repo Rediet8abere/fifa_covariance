{
 "cells": [
  {
   "cell_type": "code",
   "execution_count": 22,
   "metadata": {},
   "outputs": [
    {
     "name": "stdout",
     "output_type": "stream",
     "text": [
      "result 9.885375494071146\n",
      "check 9.885375494071146\n"
     ]
    }
   ],
   "source": [
    "import numpy as np\n",
    "data = np.array([1, 3, 5, 2, 3, 7, 8, 4, 10, 0, 6, 7, 3, 0, 3, 0, 5, 7, 10, 1, 4, 9, 3])\n",
    "\n",
    "# first we have a function to calculate the mean\n",
    "def mean(data):\n",
    "    return sum(data) / len(data)\n",
    "\n",
    "def variance(data):\n",
    "    m = mean(data)\n",
    "    S = 0\n",
    "    for xi in data:\n",
    "        S +=(xi-m)**2 \n",
    "    return S / (len(data) - 1)\n",
    "\n",
    "print(\"result\", variance(data))\n",
    "\n",
    "#To check your work you can use the built in numpy variance method (np.var())\n",
    "print(\"check\", np.var(data, ddof=1))"
   ]
  },
  {
   "cell_type": "code",
   "execution_count": null,
   "metadata": {},
   "outputs": [],
   "source": []
  }
 ],
 "metadata": {
  "kernelspec": {
   "display_name": "Python 3",
   "language": "python",
   "name": "python3"
  },
  "language_info": {
   "codemirror_mode": {
    "name": "ipython",
    "version": 3
   },
   "file_extension": ".py",
   "mimetype": "text/x-python",
   "name": "python",
   "nbconvert_exporter": "python",
   "pygments_lexer": "ipython3",
   "version": "3.7.4"
  }
 },
 "nbformat": 4,
 "nbformat_minor": 2
}
